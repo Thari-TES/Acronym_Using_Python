{
 "cells": [
  {
   "cell_type": "code",
   "execution_count": 53,
   "id": "80ddb286",
   "metadata": {},
   "outputs": [
    {
     "name": "stdout",
     "output_type": "stream",
     "text": [
      "Enter a Phrase:Machine Learning\n",
      "Acronym of  Machine Learning  is:  ML\n"
     ]
    }
   ],
   "source": [
    "user_input=str(input(\"Enter a Phrase:\"))\n",
    "#user_input=\"Machine Learning\"\n",
    "inputlist= user_input.split()\n",
    "fl=\"\"\n",
    "for i in inputlist:\n",
    "    fl=fl+str(i[0])\n",
    "    \n",
    "print(\"Acronym of \",user_input, \" is: \", fl)"
   ]
  },
  {
   "cell_type": "code",
   "execution_count": null,
   "id": "4a92fd58",
   "metadata": {},
   "outputs": [],
   "source": []
  }
 ],
 "metadata": {
  "kernelspec": {
   "display_name": "Python 3 (ipykernel)",
   "language": "python",
   "name": "python3"
  },
  "language_info": {
   "codemirror_mode": {
    "name": "ipython",
    "version": 3
   },
   "file_extension": ".py",
   "mimetype": "text/x-python",
   "name": "python",
   "nbconvert_exporter": "python",
   "pygments_lexer": "ipython3",
   "version": "3.9.7"
  }
 },
 "nbformat": 4,
 "nbformat_minor": 5
}
